{
 "cells": [
  {
   "cell_type": "markdown",
   "id": "3437ba57-4aaf-4f21-8f37-dad233b17111",
   "metadata": {},
   "source": [
    "# Data Science Tools and Ecosystem"
   ]
  },
  {
   "cell_type": "markdown",
   "id": "eb9d4b8f-ec99-4fa1-ab40-8860faeff073",
   "metadata": {},
   "source": [
    "In this notebook, Data Science Tools and Ecosystem are summarized."
   ]
  },
  {
   "cell_type": "markdown",
   "id": "4afdf6c1-89e3-4b3f-8672-c3d108cd0903",
   "metadata": {},
   "source": [
    "Objectives:\n",
    "* List popular languages for Data Science.\n",
    "* List popular Data Science Tools.\n",
    "* Examples of evaluating Arithmetic expressions."
   ]
  },
  {
   "cell_type": "markdown",
   "id": "47c3520c-d3b5-46e0-bfac-c13e13ec81af",
   "metadata": {},
   "source": [
    "Some of the popular languages that Data Scientists use are:\n",
    "1. Python\n",
    "2. R\n",
    "3. SQL"
   ]
  },
  {
   "cell_type": "markdown",
   "id": "4decce69-dbb1-4975-8059-297b9833bfb3",
   "metadata": {},
   "source": [
    "Some of the commonly used libraries used by Data Scientists include:\n",
    "1. Pandas\n",
    "2. NumPy\n",
    "3. Matplotlib"
   ]
  },
  {
   "cell_type": "markdown",
   "id": "f191491c-703e-4907-b7cc-ac81025fe930",
   "metadata": {},
   "source": [
    "| Data Science Tools|\n",
    "|-------------------|\n",
    "| RStudio |\n",
    "| Jupyter Notebook |\n",
    "|PyCharm |\n"
   ]
  },
  {
   "cell_type": "markdown",
   "id": "07b2ea14-0f84-45af-b0de-e4bf367d0b74",
   "metadata": {},
   "source": [
    "### Below are a few examples of evaluating arithmetic expressions in Python"
   ]
  },
  {
   "cell_type": "code",
   "execution_count": 1,
   "id": "9f01ae64-f7fd-4a8e-8c94-ed5e108bb077",
   "metadata": {
    "tags": []
   },
   "outputs": [
    {
     "data": {
      "text/plain": [
       "17"
      ]
     },
     "execution_count": 1,
     "metadata": {},
     "output_type": "execute_result"
    }
   ],
   "source": [
    "#This a simple arithmetic expression to mutiply then add integers\n",
    "(3*4)+5"
   ]
  },
  {
   "cell_type": "code",
   "execution_count": 2,
   "id": "e0fe47cf-5609-4aae-9239-5e1413216784",
   "metadata": {
    "tags": []
   },
   "outputs": [
    {
     "data": {
      "text/plain": [
       "33.333333333333336"
      ]
     },
     "execution_count": 2,
     "metadata": {},
     "output_type": "execute_result"
    }
   ],
   "source": [
    "#This will convert 200 minutes to hours by diving by 60\n",
    "200/6"
   ]
  },
  {
   "cell_type": "markdown",
   "id": "a18c9bbe-a08f-418f-b27c-4bcf99e1ea9b",
   "metadata": {},
   "source": [
    "## Author\n",
    "GUHAN.A.T"
   ]
  },
  {
   "cell_type": "code",
   "execution_count": null,
   "id": "82c2da20-b404-4d89-be03-a808aa7b4932",
   "metadata": {},
   "outputs": [],
   "source": []
  }
 ],
 "metadata": {
  "kernelspec": {
   "display_name": "Python",
   "language": "python",
   "name": "conda-env-python-py"
  },
  "language_info": {
   "codemirror_mode": {
    "name": "ipython",
    "version": 3
   },
   "file_extension": ".py",
   "mimetype": "text/x-python",
   "name": "python",
   "nbconvert_exporter": "python",
   "pygments_lexer": "ipython3",
   "version": "3.7.12"
  }
 },
 "nbformat": 4,
 "nbformat_minor": 5
}
